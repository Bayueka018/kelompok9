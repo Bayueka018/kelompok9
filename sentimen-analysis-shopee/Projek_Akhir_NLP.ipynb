{
  "cells": [
    {
      "cell_type": "markdown",
      "source": [
        "### PROJEK ANALISIS SENTIMEN APLIKASI SHOPEE DI GOOGLE PLAY STORE\n",
        "\n",
        "Nama anggota kelompok:\n",
        "1. Andi Agustinus\n",
        "2. Bayu Eka Salam\n",
        "3. Rio Sanjaya\n",
        "4. Zuhri"
      ],
      "metadata": {
        "id": "ToOnXu8hcosy"
      }
    },
    {
      "cell_type": "markdown",
      "source": [
        "### 1. Proses Crawling data\n"
      ],
      "metadata": {
        "id": "gZgy5Ae4OO7s"
      }
    },
    {
      "cell_type": "code",
      "metadata": {
        "id": "2DnwN8kziiHQ",
        "colab": {
          "base_uri": "https://localhost:8080/"
        },
        "outputId": "69dd610b-a29a-4d91-91a5-319c68f7e8c7"
      },
      "source": [
        "#Modul google-play-scraper digunakan untuk mengambil data aplikasi dari Google Play store\n",
        "\n",
        "!pip install google-play-scraper"
      ],
      "execution_count": null,
      "outputs": [
        {
          "output_type": "stream",
          "name": "stdout",
          "text": [
            "Looking in indexes: https://pypi.org/simple, https://us-python.pkg.dev/colab-wheels/public/simple/\n",
            "Requirement already satisfied: google-play-scraper in /usr/local/lib/python3.7/dist-packages (1.1.0)\n"
          ]
        }
      ]
    },
    {
      "cell_type": "code",
      "metadata": {
        "id": "e9klApCuGeKQ"
      },
      "source": [
        "#Melakukan import library\n",
        "\n",
        "from google_play_scraper import app\n",
        "import pandas as pd\n",
        "import numpy as np\n",
        "import seaborn as sns"
      ],
      "execution_count": null,
      "outputs": []
    },
    {
      "cell_type": "code",
      "metadata": {
        "id": "IyazUxVxKCEB"
      },
      "source": [
        "#Kikis jumlah ulasan yang diinginkan\n",
        "\n",
        "from google_play_scraper import Sort, reviews\n",
        "\n",
        "result, continuation_token = reviews(\n",
        "    'com.shopee.id',\n",
        "    lang='id', #Jenis bahasa yang ingin digunakan\n",
        "    country='id', #Pemilihan Negara\n",
        "    sort=Sort.MOST_RELEVANT, #default ke Sortir. PALING RELEVAN Anda dapat menggunakan Sort. TERBARU untuk mendapatkan ulasan terbaru\n",
        "    count=1000, #jumlah data yg di ambil 1000\n",
        "    filter_score_with=None #default ke Tidak Ada (berarti semua skor) Gunakan 1 atau 2 atau 3 atau 4 atau 5 untuk memilih skor tertentu\n",
        ")"
      ],
      "execution_count": null,
      "outputs": []
    },
    {
      "cell_type": "code",
      "metadata": {
        "id": "8ebsnHrfHWig",
        "colab": {
          "base_uri": "https://localhost:8080/",
          "height": 686
        },
        "outputId": "109486e0-4fde-462f-af55-50a4a17c2e24"
      },
      "source": [
        "df_data = pd.DataFrame(np.array(result),columns=['review'])\n",
        "\n",
        "df_data = df_data.join(pd.DataFrame(df_data.pop('review').tolist()))\n",
        "\n",
        "df_data.head()"
      ],
      "execution_count": null,
      "outputs": [
        {
          "output_type": "execute_result",
          "data": {
            "text/plain": [
              "                                            reviewId          userName  \\\n",
              "0  gp:AOqpTOFW32C9zXPdEQAvMImnpdgN9UPPVASiLQXzIMD...             Fauzi   \n",
              "1  gp:AOqpTOHpzpgrd26L9odRtaJNrMkllh6sqKbMiQgbQUC...  Marzuki Habeahan   \n",
              "2  gp:AOqpTOHZw3S6LY7tI150y3G41qLyPScjhbveWtGzZOk...    Achmadul Haddy   \n",
              "3  gp:AOqpTOGg_lfYu2l-Xt5Cj5jMG0Bm1zEEPe1twuHRNnJ...      Diego LindzZ   \n",
              "4  gp:AOqpTOGNYEtPx1KmA1gwrgCkH8M4XNRjvX3fsmLsvam...      Farah Aisyah   \n",
              "\n",
              "                                           userImage  \\\n",
              "0  https://play-lh.googleusercontent.com/a-/AOh14...   \n",
              "1  https://play-lh.googleusercontent.com/a-/AOh14...   \n",
              "2  https://play-lh.googleusercontent.com/a/AATXAJ...   \n",
              "3  https://play-lh.googleusercontent.com/a-/AOh14...   \n",
              "4  https://play-lh.googleusercontent.com/a-/AOh14...   \n",
              "\n",
              "                                             content  score  thumbsUpCount  \\\n",
              "0  untuk pelayanan semua oke lah yah.. cuman rasa...      2            261   \n",
              "1  Aplikasinya lemot buat narik darah . Pengirima...      1           9822   \n",
              "2  Kecewa dengan pembaruan shopee yang sekarang k...      4           5285   \n",
              "3  Sering crash, jaringan lancar jaya tp gambar t...      1             11   \n",
              "4  Aih! Kenapa aplikasinya restart Mulu sih min s...      1           2002   \n",
              "\n",
              "  reviewCreatedVersion                  at  \\\n",
              "0              2.87.40 2022-05-31 12:30:56   \n",
              "1              2.85.32 2022-05-11 07:06:42   \n",
              "2              2.86.08 2022-05-09 04:12:15   \n",
              "3              2.85.32 2022-05-31 03:18:53   \n",
              "4              2.86.08 2022-05-06 07:44:09   \n",
              "\n",
              "                                        replyContent           repliedAt  \n",
              "0  Hi kak Fauzi, mohon maaf atas ketidaknyamanann... 2022-05-31 14:27:53  \n",
              "1  Hi kak Marzuki, maaf ya atas kendalanya. Mimin... 2022-05-11 08:20:11  \n",
              "2  Hi Kak, Shopee update sistem opsi pengiriman s... 2021-03-23 04:59:10  \n",
              "3  Hi kak Diego, mohon maaf yaa terkait kendala p... 2022-05-31 04:51:51  \n",
              "4  Hi kak maaf yaa udah buat resah. Boleh yuk kak... 2022-05-06 09:16:31  "
            ],
            "text/html": [
              "\n",
              "  <div id=\"df-500716d7-5815-4973-bb64-a5afff0a7290\">\n",
              "    <div class=\"colab-df-container\">\n",
              "      <div>\n",
              "<style scoped>\n",
              "    .dataframe tbody tr th:only-of-type {\n",
              "        vertical-align: middle;\n",
              "    }\n",
              "\n",
              "    .dataframe tbody tr th {\n",
              "        vertical-align: top;\n",
              "    }\n",
              "\n",
              "    .dataframe thead th {\n",
              "        text-align: right;\n",
              "    }\n",
              "</style>\n",
              "<table border=\"1\" class=\"dataframe\">\n",
              "  <thead>\n",
              "    <tr style=\"text-align: right;\">\n",
              "      <th></th>\n",
              "      <th>reviewId</th>\n",
              "      <th>userName</th>\n",
              "      <th>userImage</th>\n",
              "      <th>content</th>\n",
              "      <th>score</th>\n",
              "      <th>thumbsUpCount</th>\n",
              "      <th>reviewCreatedVersion</th>\n",
              "      <th>at</th>\n",
              "      <th>replyContent</th>\n",
              "      <th>repliedAt</th>\n",
              "    </tr>\n",
              "  </thead>\n",
              "  <tbody>\n",
              "    <tr>\n",
              "      <th>0</th>\n",
              "      <td>gp:AOqpTOFW32C9zXPdEQAvMImnpdgN9UPPVASiLQXzIMD...</td>\n",
              "      <td>Fauzi</td>\n",
              "      <td>https://play-lh.googleusercontent.com/a-/AOh14...</td>\n",
              "      <td>untuk pelayanan semua oke lah yah.. cuman rasa...</td>\n",
              "      <td>2</td>\n",
              "      <td>261</td>\n",
              "      <td>2.87.40</td>\n",
              "      <td>2022-05-31 12:30:56</td>\n",
              "      <td>Hi kak Fauzi, mohon maaf atas ketidaknyamanann...</td>\n",
              "      <td>2022-05-31 14:27:53</td>\n",
              "    </tr>\n",
              "    <tr>\n",
              "      <th>1</th>\n",
              "      <td>gp:AOqpTOHpzpgrd26L9odRtaJNrMkllh6sqKbMiQgbQUC...</td>\n",
              "      <td>Marzuki Habeahan</td>\n",
              "      <td>https://play-lh.googleusercontent.com/a-/AOh14...</td>\n",
              "      <td>Aplikasinya lemot buat narik darah . Pengirima...</td>\n",
              "      <td>1</td>\n",
              "      <td>9822</td>\n",
              "      <td>2.85.32</td>\n",
              "      <td>2022-05-11 07:06:42</td>\n",
              "      <td>Hi kak Marzuki, maaf ya atas kendalanya. Mimin...</td>\n",
              "      <td>2022-05-11 08:20:11</td>\n",
              "    </tr>\n",
              "    <tr>\n",
              "      <th>2</th>\n",
              "      <td>gp:AOqpTOHZw3S6LY7tI150y3G41qLyPScjhbveWtGzZOk...</td>\n",
              "      <td>Achmadul Haddy</td>\n",
              "      <td>https://play-lh.googleusercontent.com/a/AATXAJ...</td>\n",
              "      <td>Kecewa dengan pembaruan shopee yang sekarang k...</td>\n",
              "      <td>4</td>\n",
              "      <td>5285</td>\n",
              "      <td>2.86.08</td>\n",
              "      <td>2022-05-09 04:12:15</td>\n",
              "      <td>Hi Kak, Shopee update sistem opsi pengiriman s...</td>\n",
              "      <td>2021-03-23 04:59:10</td>\n",
              "    </tr>\n",
              "    <tr>\n",
              "      <th>3</th>\n",
              "      <td>gp:AOqpTOGg_lfYu2l-Xt5Cj5jMG0Bm1zEEPe1twuHRNnJ...</td>\n",
              "      <td>Diego LindzZ</td>\n",
              "      <td>https://play-lh.googleusercontent.com/a-/AOh14...</td>\n",
              "      <td>Sering crash, jaringan lancar jaya tp gambar t...</td>\n",
              "      <td>1</td>\n",
              "      <td>11</td>\n",
              "      <td>2.85.32</td>\n",
              "      <td>2022-05-31 03:18:53</td>\n",
              "      <td>Hi kak Diego, mohon maaf yaa terkait kendala p...</td>\n",
              "      <td>2022-05-31 04:51:51</td>\n",
              "    </tr>\n",
              "    <tr>\n",
              "      <th>4</th>\n",
              "      <td>gp:AOqpTOGNYEtPx1KmA1gwrgCkH8M4XNRjvX3fsmLsvam...</td>\n",
              "      <td>Farah Aisyah</td>\n",
              "      <td>https://play-lh.googleusercontent.com/a-/AOh14...</td>\n",
              "      <td>Aih! Kenapa aplikasinya restart Mulu sih min s...</td>\n",
              "      <td>1</td>\n",
              "      <td>2002</td>\n",
              "      <td>2.86.08</td>\n",
              "      <td>2022-05-06 07:44:09</td>\n",
              "      <td>Hi kak maaf yaa udah buat resah. Boleh yuk kak...</td>\n",
              "      <td>2022-05-06 09:16:31</td>\n",
              "    </tr>\n",
              "  </tbody>\n",
              "</table>\n",
              "</div>\n",
              "      <button class=\"colab-df-convert\" onclick=\"convertToInteractive('df-500716d7-5815-4973-bb64-a5afff0a7290')\"\n",
              "              title=\"Convert this dataframe to an interactive table.\"\n",
              "              style=\"display:none;\">\n",
              "        \n",
              "  <svg xmlns=\"http://www.w3.org/2000/svg\" height=\"24px\"viewBox=\"0 0 24 24\"\n",
              "       width=\"24px\">\n",
              "    <path d=\"M0 0h24v24H0V0z\" fill=\"none\"/>\n",
              "    <path d=\"M18.56 5.44l.94 2.06.94-2.06 2.06-.94-2.06-.94-.94-2.06-.94 2.06-2.06.94zm-11 1L8.5 8.5l.94-2.06 2.06-.94-2.06-.94L8.5 2.5l-.94 2.06-2.06.94zm10 10l.94 2.06.94-2.06 2.06-.94-2.06-.94-.94-2.06-.94 2.06-2.06.94z\"/><path d=\"M17.41 7.96l-1.37-1.37c-.4-.4-.92-.59-1.43-.59-.52 0-1.04.2-1.43.59L10.3 9.45l-7.72 7.72c-.78.78-.78 2.05 0 2.83L4 21.41c.39.39.9.59 1.41.59.51 0 1.02-.2 1.41-.59l7.78-7.78 2.81-2.81c.8-.78.8-2.07 0-2.86zM5.41 20L4 18.59l7.72-7.72 1.47 1.35L5.41 20z\"/>\n",
              "  </svg>\n",
              "      </button>\n",
              "      \n",
              "  <style>\n",
              "    .colab-df-container {\n",
              "      display:flex;\n",
              "      flex-wrap:wrap;\n",
              "      gap: 12px;\n",
              "    }\n",
              "\n",
              "    .colab-df-convert {\n",
              "      background-color: #E8F0FE;\n",
              "      border: none;\n",
              "      border-radius: 50%;\n",
              "      cursor: pointer;\n",
              "      display: none;\n",
              "      fill: #1967D2;\n",
              "      height: 32px;\n",
              "      padding: 0 0 0 0;\n",
              "      width: 32px;\n",
              "    }\n",
              "\n",
              "    .colab-df-convert:hover {\n",
              "      background-color: #E2EBFA;\n",
              "      box-shadow: 0px 1px 2px rgba(60, 64, 67, 0.3), 0px 1px 3px 1px rgba(60, 64, 67, 0.15);\n",
              "      fill: #174EA6;\n",
              "    }\n",
              "\n",
              "    [theme=dark] .colab-df-convert {\n",
              "      background-color: #3B4455;\n",
              "      fill: #D2E3FC;\n",
              "    }\n",
              "\n",
              "    [theme=dark] .colab-df-convert:hover {\n",
              "      background-color: #434B5C;\n",
              "      box-shadow: 0px 1px 3px 1px rgba(0, 0, 0, 0.15);\n",
              "      filter: drop-shadow(0px 1px 2px rgba(0, 0, 0, 0.3));\n",
              "      fill: #FFFFFF;\n",
              "    }\n",
              "  </style>\n",
              "\n",
              "      <script>\n",
              "        const buttonEl =\n",
              "          document.querySelector('#df-500716d7-5815-4973-bb64-a5afff0a7290 button.colab-df-convert');\n",
              "        buttonEl.style.display =\n",
              "          google.colab.kernel.accessAllowed ? 'block' : 'none';\n",
              "\n",
              "        async function convertToInteractive(key) {\n",
              "          const element = document.querySelector('#df-500716d7-5815-4973-bb64-a5afff0a7290');\n",
              "          const dataTable =\n",
              "            await google.colab.kernel.invokeFunction('convertToInteractive',\n",
              "                                                     [key], {});\n",
              "          if (!dataTable) return;\n",
              "\n",
              "          const docLinkHtml = 'Like what you see? Visit the ' +\n",
              "            '<a target=\"_blank\" href=https://colab.research.google.com/notebooks/data_table.ipynb>data table notebook</a>'\n",
              "            + ' to learn more about interactive tables.';\n",
              "          element.innerHTML = '';\n",
              "          dataTable['output_type'] = 'display_data';\n",
              "          await google.colab.output.renderOutput(dataTable, element);\n",
              "          const docLink = document.createElement('div');\n",
              "          docLink.innerHTML = docLinkHtml;\n",
              "          element.appendChild(docLink);\n",
              "        }\n",
              "      </script>\n",
              "    </div>\n",
              "  </div>\n",
              "  "
            ]
          },
          "metadata": {},
          "execution_count": 103
        }
      ]
    },
    {
      "cell_type": "code",
      "metadata": {
        "id": "md7wsC6fIUUH",
        "colab": {
          "base_uri": "https://localhost:8080/"
        },
        "outputId": "b6f658f6-7deb-406e-88dc-494a49cab08a"
      },
      "source": [
        "#Hitung jumlah data yang kita dapatkan\n",
        "\n",
        "len(df_data.index)"
      ],
      "execution_count": null,
      "outputs": [
        {
          "output_type": "execute_result",
          "data": {
            "text/plain": [
              "1000"
            ]
          },
          "metadata": {},
          "execution_count": 104
        }
      ]
    },
    {
      "cell_type": "code",
      "metadata": {
        "id": "JbtEy0IPHeIO",
        "colab": {
          "base_uri": "https://localhost:8080/",
          "height": 206
        },
        "outputId": "d1e99dbd-64e6-4454-c048-867728c7d1cd"
      },
      "source": [
        "#Pratinjau nama pengguna, peringkat, tanggal-waktu, dan ulasan saja\n",
        "\n",
        "df_data[['at','score', 'content']].head()  "
      ],
      "execution_count": null,
      "outputs": [
        {
          "output_type": "execute_result",
          "data": {
            "text/plain": [
              "                   at  score  \\\n",
              "0 2022-05-31 12:30:56      2   \n",
              "1 2022-05-11 07:06:42      1   \n",
              "2 2022-05-09 04:12:15      4   \n",
              "3 2022-05-31 03:18:53      1   \n",
              "4 2022-05-06 07:44:09      1   \n",
              "\n",
              "                                             content  \n",
              "0  untuk pelayanan semua oke lah yah.. cuman rasa...  \n",
              "1  Aplikasinya lemot buat narik darah . Pengirima...  \n",
              "2  Kecewa dengan pembaruan shopee yang sekarang k...  \n",
              "3  Sering crash, jaringan lancar jaya tp gambar t...  \n",
              "4  Aih! Kenapa aplikasinya restart Mulu sih min s...  "
            ],
            "text/html": [
              "\n",
              "  <div id=\"df-5ea233ae-9f4b-4687-aafc-537509a4b1ed\">\n",
              "    <div class=\"colab-df-container\">\n",
              "      <div>\n",
              "<style scoped>\n",
              "    .dataframe tbody tr th:only-of-type {\n",
              "        vertical-align: middle;\n",
              "    }\n",
              "\n",
              "    .dataframe tbody tr th {\n",
              "        vertical-align: top;\n",
              "    }\n",
              "\n",
              "    .dataframe thead th {\n",
              "        text-align: right;\n",
              "    }\n",
              "</style>\n",
              "<table border=\"1\" class=\"dataframe\">\n",
              "  <thead>\n",
              "    <tr style=\"text-align: right;\">\n",
              "      <th></th>\n",
              "      <th>at</th>\n",
              "      <th>score</th>\n",
              "      <th>content</th>\n",
              "    </tr>\n",
              "  </thead>\n",
              "  <tbody>\n",
              "    <tr>\n",
              "      <th>0</th>\n",
              "      <td>2022-05-31 12:30:56</td>\n",
              "      <td>2</td>\n",
              "      <td>untuk pelayanan semua oke lah yah.. cuman rasa...</td>\n",
              "    </tr>\n",
              "    <tr>\n",
              "      <th>1</th>\n",
              "      <td>2022-05-11 07:06:42</td>\n",
              "      <td>1</td>\n",
              "      <td>Aplikasinya lemot buat narik darah . Pengirima...</td>\n",
              "    </tr>\n",
              "    <tr>\n",
              "      <th>2</th>\n",
              "      <td>2022-05-09 04:12:15</td>\n",
              "      <td>4</td>\n",
              "      <td>Kecewa dengan pembaruan shopee yang sekarang k...</td>\n",
              "    </tr>\n",
              "    <tr>\n",
              "      <th>3</th>\n",
              "      <td>2022-05-31 03:18:53</td>\n",
              "      <td>1</td>\n",
              "      <td>Sering crash, jaringan lancar jaya tp gambar t...</td>\n",
              "    </tr>\n",
              "    <tr>\n",
              "      <th>4</th>\n",
              "      <td>2022-05-06 07:44:09</td>\n",
              "      <td>1</td>\n",
              "      <td>Aih! Kenapa aplikasinya restart Mulu sih min s...</td>\n",
              "    </tr>\n",
              "  </tbody>\n",
              "</table>\n",
              "</div>\n",
              "      <button class=\"colab-df-convert\" onclick=\"convertToInteractive('df-5ea233ae-9f4b-4687-aafc-537509a4b1ed')\"\n",
              "              title=\"Convert this dataframe to an interactive table.\"\n",
              "              style=\"display:none;\">\n",
              "        \n",
              "  <svg xmlns=\"http://www.w3.org/2000/svg\" height=\"24px\"viewBox=\"0 0 24 24\"\n",
              "       width=\"24px\">\n",
              "    <path d=\"M0 0h24v24H0V0z\" fill=\"none\"/>\n",
              "    <path d=\"M18.56 5.44l.94 2.06.94-2.06 2.06-.94-2.06-.94-.94-2.06-.94 2.06-2.06.94zm-11 1L8.5 8.5l.94-2.06 2.06-.94-2.06-.94L8.5 2.5l-.94 2.06-2.06.94zm10 10l.94 2.06.94-2.06 2.06-.94-2.06-.94-.94-2.06-.94 2.06-2.06.94z\"/><path d=\"M17.41 7.96l-1.37-1.37c-.4-.4-.92-.59-1.43-.59-.52 0-1.04.2-1.43.59L10.3 9.45l-7.72 7.72c-.78.78-.78 2.05 0 2.83L4 21.41c.39.39.9.59 1.41.59.51 0 1.02-.2 1.41-.59l7.78-7.78 2.81-2.81c.8-.78.8-2.07 0-2.86zM5.41 20L4 18.59l7.72-7.72 1.47 1.35L5.41 20z\"/>\n",
              "  </svg>\n",
              "      </button>\n",
              "      \n",
              "  <style>\n",
              "    .colab-df-container {\n",
              "      display:flex;\n",
              "      flex-wrap:wrap;\n",
              "      gap: 12px;\n",
              "    }\n",
              "\n",
              "    .colab-df-convert {\n",
              "      background-color: #E8F0FE;\n",
              "      border: none;\n",
              "      border-radius: 50%;\n",
              "      cursor: pointer;\n",
              "      display: none;\n",
              "      fill: #1967D2;\n",
              "      height: 32px;\n",
              "      padding: 0 0 0 0;\n",
              "      width: 32px;\n",
              "    }\n",
              "\n",
              "    .colab-df-convert:hover {\n",
              "      background-color: #E2EBFA;\n",
              "      box-shadow: 0px 1px 2px rgba(60, 64, 67, 0.3), 0px 1px 3px 1px rgba(60, 64, 67, 0.15);\n",
              "      fill: #174EA6;\n",
              "    }\n",
              "\n",
              "    [theme=dark] .colab-df-convert {\n",
              "      background-color: #3B4455;\n",
              "      fill: #D2E3FC;\n",
              "    }\n",
              "\n",
              "    [theme=dark] .colab-df-convert:hover {\n",
              "      background-color: #434B5C;\n",
              "      box-shadow: 0px 1px 3px 1px rgba(0, 0, 0, 0.15);\n",
              "      filter: drop-shadow(0px 1px 2px rgba(0, 0, 0, 0.3));\n",
              "      fill: #FFFFFF;\n",
              "    }\n",
              "  </style>\n",
              "\n",
              "      <script>\n",
              "        const buttonEl =\n",
              "          document.querySelector('#df-5ea233ae-9f4b-4687-aafc-537509a4b1ed button.colab-df-convert');\n",
              "        buttonEl.style.display =\n",
              "          google.colab.kernel.accessAllowed ? 'block' : 'none';\n",
              "\n",
              "        async function convertToInteractive(key) {\n",
              "          const element = document.querySelector('#df-5ea233ae-9f4b-4687-aafc-537509a4b1ed');\n",
              "          const dataTable =\n",
              "            await google.colab.kernel.invokeFunction('convertToInteractive',\n",
              "                                                     [key], {});\n",
              "          if (!dataTable) return;\n",
              "\n",
              "          const docLinkHtml = 'Like what you see? Visit the ' +\n",
              "            '<a target=\"_blank\" href=https://colab.research.google.com/notebooks/data_table.ipynb>data table notebook</a>'\n",
              "            + ' to learn more about interactive tables.';\n",
              "          element.innerHTML = '';\n",
              "          dataTable['output_type'] = 'display_data';\n",
              "          await google.colab.output.renderOutput(dataTable, element);\n",
              "          const docLink = document.createElement('div');\n",
              "          docLink.innerHTML = docLinkHtml;\n",
              "          element.appendChild(docLink);\n",
              "        }\n",
              "      </script>\n",
              "    </div>\n",
              "  </div>\n",
              "  "
            ]
          },
          "metadata": {},
          "execution_count": 105
        }
      ]
    },
    {
      "cell_type": "code",
      "metadata": {
        "colab": {
          "base_uri": "https://localhost:8080/",
          "height": 206
        },
        "id": "1yVHXsZAsC79",
        "outputId": "9c85e0af-436a-4ba5-bd2a-7daec70270f5"
      },
      "source": [
        "#Jalankan Kode Ini untuk Mengurutkan Data Berdasarkan Tanggal\n",
        "\n",
        "new_df = df_data[['at','score', 'content']]\n",
        "sorted_df = new_df.sort_values(by='at', ascending=False) #Sort by Newst, change to True if you want to sort by Oldest.\n",
        "sorted_df.head()"
      ],
      "execution_count": null,
      "outputs": [
        {
          "output_type": "execute_result",
          "data": {
            "text/plain": [
              "                     at  score  \\\n",
              "992 2022-05-31 13:11:28      1   \n",
              "0   2022-05-31 12:30:56      2   \n",
              "702 2022-05-31 12:13:04      5   \n",
              "315 2022-05-31 12:02:19      2   \n",
              "885 2022-05-31 12:01:51      2   \n",
              "\n",
              "                                               content  \n",
              "992  Sngat2 kecewa x sama sistem jualan di shopee. ...  \n",
              "0    untuk pelayanan semua oke lah yah.. cuman rasa...  \n",
              "702  Awal nya saya sangat puas berbelanja di shopee...  \n",
              "315  Bukannya sok tau, tapi ada apa dengan koneksi ...  \n",
              "885  Tolong dong pihak Shopee lebih di tegasin lagi...  "
            ],
            "text/html": [
              "\n",
              "  <div id=\"df-079ae4d8-e76a-441e-be7b-86a45d004041\">\n",
              "    <div class=\"colab-df-container\">\n",
              "      <div>\n",
              "<style scoped>\n",
              "    .dataframe tbody tr th:only-of-type {\n",
              "        vertical-align: middle;\n",
              "    }\n",
              "\n",
              "    .dataframe tbody tr th {\n",
              "        vertical-align: top;\n",
              "    }\n",
              "\n",
              "    .dataframe thead th {\n",
              "        text-align: right;\n",
              "    }\n",
              "</style>\n",
              "<table border=\"1\" class=\"dataframe\">\n",
              "  <thead>\n",
              "    <tr style=\"text-align: right;\">\n",
              "      <th></th>\n",
              "      <th>at</th>\n",
              "      <th>score</th>\n",
              "      <th>content</th>\n",
              "    </tr>\n",
              "  </thead>\n",
              "  <tbody>\n",
              "    <tr>\n",
              "      <th>992</th>\n",
              "      <td>2022-05-31 13:11:28</td>\n",
              "      <td>1</td>\n",
              "      <td>Sngat2 kecewa x sama sistem jualan di shopee. ...</td>\n",
              "    </tr>\n",
              "    <tr>\n",
              "      <th>0</th>\n",
              "      <td>2022-05-31 12:30:56</td>\n",
              "      <td>2</td>\n",
              "      <td>untuk pelayanan semua oke lah yah.. cuman rasa...</td>\n",
              "    </tr>\n",
              "    <tr>\n",
              "      <th>702</th>\n",
              "      <td>2022-05-31 12:13:04</td>\n",
              "      <td>5</td>\n",
              "      <td>Awal nya saya sangat puas berbelanja di shopee...</td>\n",
              "    </tr>\n",
              "    <tr>\n",
              "      <th>315</th>\n",
              "      <td>2022-05-31 12:02:19</td>\n",
              "      <td>2</td>\n",
              "      <td>Bukannya sok tau, tapi ada apa dengan koneksi ...</td>\n",
              "    </tr>\n",
              "    <tr>\n",
              "      <th>885</th>\n",
              "      <td>2022-05-31 12:01:51</td>\n",
              "      <td>2</td>\n",
              "      <td>Tolong dong pihak Shopee lebih di tegasin lagi...</td>\n",
              "    </tr>\n",
              "  </tbody>\n",
              "</table>\n",
              "</div>\n",
              "      <button class=\"colab-df-convert\" onclick=\"convertToInteractive('df-079ae4d8-e76a-441e-be7b-86a45d004041')\"\n",
              "              title=\"Convert this dataframe to an interactive table.\"\n",
              "              style=\"display:none;\">\n",
              "        \n",
              "  <svg xmlns=\"http://www.w3.org/2000/svg\" height=\"24px\"viewBox=\"0 0 24 24\"\n",
              "       width=\"24px\">\n",
              "    <path d=\"M0 0h24v24H0V0z\" fill=\"none\"/>\n",
              "    <path d=\"M18.56 5.44l.94 2.06.94-2.06 2.06-.94-2.06-.94-.94-2.06-.94 2.06-2.06.94zm-11 1L8.5 8.5l.94-2.06 2.06-.94-2.06-.94L8.5 2.5l-.94 2.06-2.06.94zm10 10l.94 2.06.94-2.06 2.06-.94-2.06-.94-.94-2.06-.94 2.06-2.06.94z\"/><path d=\"M17.41 7.96l-1.37-1.37c-.4-.4-.92-.59-1.43-.59-.52 0-1.04.2-1.43.59L10.3 9.45l-7.72 7.72c-.78.78-.78 2.05 0 2.83L4 21.41c.39.39.9.59 1.41.59.51 0 1.02-.2 1.41-.59l7.78-7.78 2.81-2.81c.8-.78.8-2.07 0-2.86zM5.41 20L4 18.59l7.72-7.72 1.47 1.35L5.41 20z\"/>\n",
              "  </svg>\n",
              "      </button>\n",
              "      \n",
              "  <style>\n",
              "    .colab-df-container {\n",
              "      display:flex;\n",
              "      flex-wrap:wrap;\n",
              "      gap: 12px;\n",
              "    }\n",
              "\n",
              "    .colab-df-convert {\n",
              "      background-color: #E8F0FE;\n",
              "      border: none;\n",
              "      border-radius: 50%;\n",
              "      cursor: pointer;\n",
              "      display: none;\n",
              "      fill: #1967D2;\n",
              "      height: 32px;\n",
              "      padding: 0 0 0 0;\n",
              "      width: 32px;\n",
              "    }\n",
              "\n",
              "    .colab-df-convert:hover {\n",
              "      background-color: #E2EBFA;\n",
              "      box-shadow: 0px 1px 2px rgba(60, 64, 67, 0.3), 0px 1px 3px 1px rgba(60, 64, 67, 0.15);\n",
              "      fill: #174EA6;\n",
              "    }\n",
              "\n",
              "    [theme=dark] .colab-df-convert {\n",
              "      background-color: #3B4455;\n",
              "      fill: #D2E3FC;\n",
              "    }\n",
              "\n",
              "    [theme=dark] .colab-df-convert:hover {\n",
              "      background-color: #434B5C;\n",
              "      box-shadow: 0px 1px 3px 1px rgba(0, 0, 0, 0.15);\n",
              "      filter: drop-shadow(0px 1px 2px rgba(0, 0, 0, 0.3));\n",
              "      fill: #FFFFFF;\n",
              "    }\n",
              "  </style>\n",
              "\n",
              "      <script>\n",
              "        const buttonEl =\n",
              "          document.querySelector('#df-079ae4d8-e76a-441e-be7b-86a45d004041 button.colab-df-convert');\n",
              "        buttonEl.style.display =\n",
              "          google.colab.kernel.accessAllowed ? 'block' : 'none';\n",
              "\n",
              "        async function convertToInteractive(key) {\n",
              "          const element = document.querySelector('#df-079ae4d8-e76a-441e-be7b-86a45d004041');\n",
              "          const dataTable =\n",
              "            await google.colab.kernel.invokeFunction('convertToInteractive',\n",
              "                                                     [key], {});\n",
              "          if (!dataTable) return;\n",
              "\n",
              "          const docLinkHtml = 'Like what you see? Visit the ' +\n",
              "            '<a target=\"_blank\" href=https://colab.research.google.com/notebooks/data_table.ipynb>data table notebook</a>'\n",
              "            + ' to learn more about interactive tables.';\n",
              "          element.innerHTML = '';\n",
              "          dataTable['output_type'] = 'display_data';\n",
              "          await google.colab.output.renderOutput(dataTable, element);\n",
              "          const docLink = document.createElement('div');\n",
              "          docLink.innerHTML = docLinkHtml;\n",
              "          element.appendChild(docLink);\n",
              "        }\n",
              "      </script>\n",
              "    </div>\n",
              "  </div>\n",
              "  "
            ]
          },
          "metadata": {},
          "execution_count": 106
        }
      ]
    },
    {
      "cell_type": "code",
      "metadata": {
        "id": "yCUyHN58Pngt"
      },
      "source": [
        "#Dapatkan hanya Nama_Pengguna, Peringkat, Tanggal, dan Tanggapan\n",
        "\n",
        "df = sorted_df[['at','score', 'content']] "
      ],
      "execution_count": null,
      "outputs": []
    },
    {
      "cell_type": "code",
      "metadata": {
        "colab": {
          "base_uri": "https://localhost:8080/",
          "height": 206
        },
        "id": "L1FpkUiutQds",
        "outputId": "15c1bc1b-649b-4108-d823-bebe696ce452"
      },
      "source": [
        "df.head()"
      ],
      "execution_count": null,
      "outputs": [
        {
          "output_type": "execute_result",
          "data": {
            "text/plain": [
              "                     at  score  \\\n",
              "992 2022-05-31 13:11:28      1   \n",
              "0   2022-05-31 12:30:56      2   \n",
              "702 2022-05-31 12:13:04      5   \n",
              "315 2022-05-31 12:02:19      2   \n",
              "885 2022-05-31 12:01:51      2   \n",
              "\n",
              "                                               content  \n",
              "992  Sngat2 kecewa x sama sistem jualan di shopee. ...  \n",
              "0    untuk pelayanan semua oke lah yah.. cuman rasa...  \n",
              "702  Awal nya saya sangat puas berbelanja di shopee...  \n",
              "315  Bukannya sok tau, tapi ada apa dengan koneksi ...  \n",
              "885  Tolong dong pihak Shopee lebih di tegasin lagi...  "
            ],
            "text/html": [
              "\n",
              "  <div id=\"df-f6d505d4-62b6-4a52-b107-f14b4d9c0597\">\n",
              "    <div class=\"colab-df-container\">\n",
              "      <div>\n",
              "<style scoped>\n",
              "    .dataframe tbody tr th:only-of-type {\n",
              "        vertical-align: middle;\n",
              "    }\n",
              "\n",
              "    .dataframe tbody tr th {\n",
              "        vertical-align: top;\n",
              "    }\n",
              "\n",
              "    .dataframe thead th {\n",
              "        text-align: right;\n",
              "    }\n",
              "</style>\n",
              "<table border=\"1\" class=\"dataframe\">\n",
              "  <thead>\n",
              "    <tr style=\"text-align: right;\">\n",
              "      <th></th>\n",
              "      <th>at</th>\n",
              "      <th>score</th>\n",
              "      <th>content</th>\n",
              "    </tr>\n",
              "  </thead>\n",
              "  <tbody>\n",
              "    <tr>\n",
              "      <th>992</th>\n",
              "      <td>2022-05-31 13:11:28</td>\n",
              "      <td>1</td>\n",
              "      <td>Sngat2 kecewa x sama sistem jualan di shopee. ...</td>\n",
              "    </tr>\n",
              "    <tr>\n",
              "      <th>0</th>\n",
              "      <td>2022-05-31 12:30:56</td>\n",
              "      <td>2</td>\n",
              "      <td>untuk pelayanan semua oke lah yah.. cuman rasa...</td>\n",
              "    </tr>\n",
              "    <tr>\n",
              "      <th>702</th>\n",
              "      <td>2022-05-31 12:13:04</td>\n",
              "      <td>5</td>\n",
              "      <td>Awal nya saya sangat puas berbelanja di shopee...</td>\n",
              "    </tr>\n",
              "    <tr>\n",
              "      <th>315</th>\n",
              "      <td>2022-05-31 12:02:19</td>\n",
              "      <td>2</td>\n",
              "      <td>Bukannya sok tau, tapi ada apa dengan koneksi ...</td>\n",
              "    </tr>\n",
              "    <tr>\n",
              "      <th>885</th>\n",
              "      <td>2022-05-31 12:01:51</td>\n",
              "      <td>2</td>\n",
              "      <td>Tolong dong pihak Shopee lebih di tegasin lagi...</td>\n",
              "    </tr>\n",
              "  </tbody>\n",
              "</table>\n",
              "</div>\n",
              "      <button class=\"colab-df-convert\" onclick=\"convertToInteractive('df-f6d505d4-62b6-4a52-b107-f14b4d9c0597')\"\n",
              "              title=\"Convert this dataframe to an interactive table.\"\n",
              "              style=\"display:none;\">\n",
              "        \n",
              "  <svg xmlns=\"http://www.w3.org/2000/svg\" height=\"24px\"viewBox=\"0 0 24 24\"\n",
              "       width=\"24px\">\n",
              "    <path d=\"M0 0h24v24H0V0z\" fill=\"none\"/>\n",
              "    <path d=\"M18.56 5.44l.94 2.06.94-2.06 2.06-.94-2.06-.94-.94-2.06-.94 2.06-2.06.94zm-11 1L8.5 8.5l.94-2.06 2.06-.94-2.06-.94L8.5 2.5l-.94 2.06-2.06.94zm10 10l.94 2.06.94-2.06 2.06-.94-2.06-.94-.94-2.06-.94 2.06-2.06.94z\"/><path d=\"M17.41 7.96l-1.37-1.37c-.4-.4-.92-.59-1.43-.59-.52 0-1.04.2-1.43.59L10.3 9.45l-7.72 7.72c-.78.78-.78 2.05 0 2.83L4 21.41c.39.39.9.59 1.41.59.51 0 1.02-.2 1.41-.59l7.78-7.78 2.81-2.81c.8-.78.8-2.07 0-2.86zM5.41 20L4 18.59l7.72-7.72 1.47 1.35L5.41 20z\"/>\n",
              "  </svg>\n",
              "      </button>\n",
              "      \n",
              "  <style>\n",
              "    .colab-df-container {\n",
              "      display:flex;\n",
              "      flex-wrap:wrap;\n",
              "      gap: 12px;\n",
              "    }\n",
              "\n",
              "    .colab-df-convert {\n",
              "      background-color: #E8F0FE;\n",
              "      border: none;\n",
              "      border-radius: 50%;\n",
              "      cursor: pointer;\n",
              "      display: none;\n",
              "      fill: #1967D2;\n",
              "      height: 32px;\n",
              "      padding: 0 0 0 0;\n",
              "      width: 32px;\n",
              "    }\n",
              "\n",
              "    .colab-df-convert:hover {\n",
              "      background-color: #E2EBFA;\n",
              "      box-shadow: 0px 1px 2px rgba(60, 64, 67, 0.3), 0px 1px 3px 1px rgba(60, 64, 67, 0.15);\n",
              "      fill: #174EA6;\n",
              "    }\n",
              "\n",
              "    [theme=dark] .colab-df-convert {\n",
              "      background-color: #3B4455;\n",
              "      fill: #D2E3FC;\n",
              "    }\n",
              "\n",
              "    [theme=dark] .colab-df-convert:hover {\n",
              "      background-color: #434B5C;\n",
              "      box-shadow: 0px 1px 3px 1px rgba(0, 0, 0, 0.15);\n",
              "      filter: drop-shadow(0px 1px 2px rgba(0, 0, 0, 0.3));\n",
              "      fill: #FFFFFF;\n",
              "    }\n",
              "  </style>\n",
              "\n",
              "      <script>\n",
              "        const buttonEl =\n",
              "          document.querySelector('#df-f6d505d4-62b6-4a52-b107-f14b4d9c0597 button.colab-df-convert');\n",
              "        buttonEl.style.display =\n",
              "          google.colab.kernel.accessAllowed ? 'block' : 'none';\n",
              "\n",
              "        async function convertToInteractive(key) {\n",
              "          const element = document.querySelector('#df-f6d505d4-62b6-4a52-b107-f14b4d9c0597');\n",
              "          const dataTable =\n",
              "            await google.colab.kernel.invokeFunction('convertToInteractive',\n",
              "                                                     [key], {});\n",
              "          if (!dataTable) return;\n",
              "\n",
              "          const docLinkHtml = 'Like what you see? Visit the ' +\n",
              "            '<a target=\"_blank\" href=https://colab.research.google.com/notebooks/data_table.ipynb>data table notebook</a>'\n",
              "            + ' to learn more about interactive tables.';\n",
              "          element.innerHTML = '';\n",
              "          dataTable['output_type'] = 'display_data';\n",
              "          await google.colab.output.renderOutput(dataTable, element);\n",
              "          const docLink = document.createElement('div');\n",
              "          docLink.innerHTML = docLinkHtml;\n",
              "          element.appendChild(docLink);\n",
              "        }\n",
              "      </script>\n",
              "    </div>\n",
              "  </div>\n",
              "  "
            ]
          },
          "metadata": {},
          "execution_count": 108
        }
      ]
    },
    {
      "cell_type": "code",
      "source": [
        "def pelabelan(score):\n",
        "  if score < 4:\n",
        "    return 'NEGATIF'\n",
        "  else:\n",
        "    return 'POSITIF'\n",
        "  \n",
        "df['label'] = df['score'].apply(pelabelan)\n",
        "df.head(5)"
      ],
      "metadata": {
        "colab": {
          "base_uri": "https://localhost:8080/",
          "height": 206
        },
        "id": "TmuB3hpA74Cw",
        "outputId": "6274559f-cd7b-4f8c-9dd2-bc17fe6fd716"
      },
      "execution_count": null,
      "outputs": [
        {
          "output_type": "execute_result",
          "data": {
            "text/plain": [
              "                     at  score  \\\n",
              "992 2022-05-31 13:11:28      1   \n",
              "0   2022-05-31 12:30:56      2   \n",
              "702 2022-05-31 12:13:04      5   \n",
              "315 2022-05-31 12:02:19      2   \n",
              "885 2022-05-31 12:01:51      2   \n",
              "\n",
              "                                               content    label  \n",
              "992  Sngat2 kecewa x sama sistem jualan di shopee. ...  NEGATIF  \n",
              "0    untuk pelayanan semua oke lah yah.. cuman rasa...  NEGATIF  \n",
              "702  Awal nya saya sangat puas berbelanja di shopee...  POSITIF  \n",
              "315  Bukannya sok tau, tapi ada apa dengan koneksi ...  NEGATIF  \n",
              "885  Tolong dong pihak Shopee lebih di tegasin lagi...  NEGATIF  "
            ],
            "text/html": [
              "\n",
              "  <div id=\"df-69ae34c4-6e7c-4bb5-ab28-746a609c64f2\">\n",
              "    <div class=\"colab-df-container\">\n",
              "      <div>\n",
              "<style scoped>\n",
              "    .dataframe tbody tr th:only-of-type {\n",
              "        vertical-align: middle;\n",
              "    }\n",
              "\n",
              "    .dataframe tbody tr th {\n",
              "        vertical-align: top;\n",
              "    }\n",
              "\n",
              "    .dataframe thead th {\n",
              "        text-align: right;\n",
              "    }\n",
              "</style>\n",
              "<table border=\"1\" class=\"dataframe\">\n",
              "  <thead>\n",
              "    <tr style=\"text-align: right;\">\n",
              "      <th></th>\n",
              "      <th>at</th>\n",
              "      <th>score</th>\n",
              "      <th>content</th>\n",
              "      <th>label</th>\n",
              "    </tr>\n",
              "  </thead>\n",
              "  <tbody>\n",
              "    <tr>\n",
              "      <th>992</th>\n",
              "      <td>2022-05-31 13:11:28</td>\n",
              "      <td>1</td>\n",
              "      <td>Sngat2 kecewa x sama sistem jualan di shopee. ...</td>\n",
              "      <td>NEGATIF</td>\n",
              "    </tr>\n",
              "    <tr>\n",
              "      <th>0</th>\n",
              "      <td>2022-05-31 12:30:56</td>\n",
              "      <td>2</td>\n",
              "      <td>untuk pelayanan semua oke lah yah.. cuman rasa...</td>\n",
              "      <td>NEGATIF</td>\n",
              "    </tr>\n",
              "    <tr>\n",
              "      <th>702</th>\n",
              "      <td>2022-05-31 12:13:04</td>\n",
              "      <td>5</td>\n",
              "      <td>Awal nya saya sangat puas berbelanja di shopee...</td>\n",
              "      <td>POSITIF</td>\n",
              "    </tr>\n",
              "    <tr>\n",
              "      <th>315</th>\n",
              "      <td>2022-05-31 12:02:19</td>\n",
              "      <td>2</td>\n",
              "      <td>Bukannya sok tau, tapi ada apa dengan koneksi ...</td>\n",
              "      <td>NEGATIF</td>\n",
              "    </tr>\n",
              "    <tr>\n",
              "      <th>885</th>\n",
              "      <td>2022-05-31 12:01:51</td>\n",
              "      <td>2</td>\n",
              "      <td>Tolong dong pihak Shopee lebih di tegasin lagi...</td>\n",
              "      <td>NEGATIF</td>\n",
              "    </tr>\n",
              "  </tbody>\n",
              "</table>\n",
              "</div>\n",
              "      <button class=\"colab-df-convert\" onclick=\"convertToInteractive('df-69ae34c4-6e7c-4bb5-ab28-746a609c64f2')\"\n",
              "              title=\"Convert this dataframe to an interactive table.\"\n",
              "              style=\"display:none;\">\n",
              "        \n",
              "  <svg xmlns=\"http://www.w3.org/2000/svg\" height=\"24px\"viewBox=\"0 0 24 24\"\n",
              "       width=\"24px\">\n",
              "    <path d=\"M0 0h24v24H0V0z\" fill=\"none\"/>\n",
              "    <path d=\"M18.56 5.44l.94 2.06.94-2.06 2.06-.94-2.06-.94-.94-2.06-.94 2.06-2.06.94zm-11 1L8.5 8.5l.94-2.06 2.06-.94-2.06-.94L8.5 2.5l-.94 2.06-2.06.94zm10 10l.94 2.06.94-2.06 2.06-.94-2.06-.94-.94-2.06-.94 2.06-2.06.94z\"/><path d=\"M17.41 7.96l-1.37-1.37c-.4-.4-.92-.59-1.43-.59-.52 0-1.04.2-1.43.59L10.3 9.45l-7.72 7.72c-.78.78-.78 2.05 0 2.83L4 21.41c.39.39.9.59 1.41.59.51 0 1.02-.2 1.41-.59l7.78-7.78 2.81-2.81c.8-.78.8-2.07 0-2.86zM5.41 20L4 18.59l7.72-7.72 1.47 1.35L5.41 20z\"/>\n",
              "  </svg>\n",
              "      </button>\n",
              "      \n",
              "  <style>\n",
              "    .colab-df-container {\n",
              "      display:flex;\n",
              "      flex-wrap:wrap;\n",
              "      gap: 12px;\n",
              "    }\n",
              "\n",
              "    .colab-df-convert {\n",
              "      background-color: #E8F0FE;\n",
              "      border: none;\n",
              "      border-radius: 50%;\n",
              "      cursor: pointer;\n",
              "      display: none;\n",
              "      fill: #1967D2;\n",
              "      height: 32px;\n",
              "      padding: 0 0 0 0;\n",
              "      width: 32px;\n",
              "    }\n",
              "\n",
              "    .colab-df-convert:hover {\n",
              "      background-color: #E2EBFA;\n",
              "      box-shadow: 0px 1px 2px rgba(60, 64, 67, 0.3), 0px 1px 3px 1px rgba(60, 64, 67, 0.15);\n",
              "      fill: #174EA6;\n",
              "    }\n",
              "\n",
              "    [theme=dark] .colab-df-convert {\n",
              "      background-color: #3B4455;\n",
              "      fill: #D2E3FC;\n",
              "    }\n",
              "\n",
              "    [theme=dark] .colab-df-convert:hover {\n",
              "      background-color: #434B5C;\n",
              "      box-shadow: 0px 1px 3px 1px rgba(0, 0, 0, 0.15);\n",
              "      filter: drop-shadow(0px 1px 2px rgba(0, 0, 0, 0.3));\n",
              "      fill: #FFFFFF;\n",
              "    }\n",
              "  </style>\n",
              "\n",
              "      <script>\n",
              "        const buttonEl =\n",
              "          document.querySelector('#df-69ae34c4-6e7c-4bb5-ab28-746a609c64f2 button.colab-df-convert');\n",
              "        buttonEl.style.display =\n",
              "          google.colab.kernel.accessAllowed ? 'block' : 'none';\n",
              "\n",
              "        async function convertToInteractive(key) {\n",
              "          const element = document.querySelector('#df-69ae34c4-6e7c-4bb5-ab28-746a609c64f2');\n",
              "          const dataTable =\n",
              "            await google.colab.kernel.invokeFunction('convertToInteractive',\n",
              "                                                     [key], {});\n",
              "          if (!dataTable) return;\n",
              "\n",
              "          const docLinkHtml = 'Like what you see? Visit the ' +\n",
              "            '<a target=\"_blank\" href=https://colab.research.google.com/notebooks/data_table.ipynb>data table notebook</a>'\n",
              "            + ' to learn more about interactive tables.';\n",
              "          element.innerHTML = '';\n",
              "          dataTable['output_type'] = 'display_data';\n",
              "          await google.colab.output.renderOutput(dataTable, element);\n",
              "          const docLink = document.createElement('div');\n",
              "          docLink.innerHTML = docLinkHtml;\n",
              "          element.appendChild(docLink);\n",
              "        }\n",
              "      </script>\n",
              "    </div>\n",
              "  </div>\n",
              "  "
            ]
          },
          "metadata": {},
          "execution_count": 109
        }
      ]
    },
    {
      "cell_type": "code",
      "execution_count": null,
      "metadata": {
        "colab": {
          "base_uri": "https://localhost:8080/"
        },
        "id": "mApamD3HO7TG",
        "outputId": "026a0b89-22c5-4bb5-eb2a-c54a5b1942d8"
      },
      "outputs": [
        {
          "output_type": "execute_result",
          "data": {
            "text/plain": [
              "992    1\n",
              "0      2\n",
              "702    5\n",
              "315    2\n",
              "885    2\n",
              "Name: score, dtype: int64"
            ]
          },
          "metadata": {},
          "execution_count": 110
        }
      ],
      "source": [
        "#menampilkan data label\n",
        "y = df['score']\n",
        "y[0:5]\n"
      ]
    },
    {
      "cell_type": "code",
      "execution_count": null,
      "metadata": {
        "colab": {
          "base_uri": "https://localhost:8080/",
          "height": 297
        },
        "id": "5R9WXDdrO7TH",
        "outputId": "34ed5086-fdba-4a39-fcd7-82cf5b1eb229"
      },
      "outputs": [
        {
          "output_type": "execute_result",
          "data": {
            "text/plain": [
              "<matplotlib.axes._subplots.AxesSubplot at 0x7fc829ec3fd0>"
            ]
          },
          "metadata": {},
          "execution_count": 111
        },
        {
          "output_type": "display_data",
          "data": {
            "text/plain": [
              "<Figure size 432x288 with 1 Axes>"
            ],
            "image/png": "[encoded data removed]"
          },
          "metadata": {
            "needs_background": "light"
          }
        }
      ],
      "source": [
        "#menampilkan grafik nilai dari variabel \"label\"\n",
        "sns.countplot(x=\"score\", data=df)"
      ]
    },
    {
      "cell_type": "code",
      "execution_count": null,
      "metadata": {
        "colab": {
          "base_uri": "https://localhost:8080/"
        },
        "id": "FjO-bYybO7TI",
        "outputId": "a8deb81c-a0f4-45ba-9834-41cd1878d7e4"
      },
      "outputs": [
        {
          "output_type": "execute_result",
          "data": {
            "text/plain": [
              "1    444\n",
              "5    179\n",
              "3    160\n",
              "2    133\n",
              "4     84\n",
              "Name: score, dtype: int64"
            ]
          },
          "metadata": {},
          "execution_count": 112
        }
      ],
      "source": [
        "#menghitung jumlah data masing-masing label\n",
        "df[\"score\"].value_counts()"
      ]
    },
    {
      "cell_type": "markdown",
      "metadata": {
        "id": "ACYtWuxAy4nU"
      },
      "source": [
        "### 2. Proses Preprocessing "
      ]
    },
    {
      "cell_type": "code",
      "execution_count": null,
      "metadata": {
        "id": "5yPmNtqSQATj",
        "colab": {
          "base_uri": "https://localhost:8080/"
        },
        "outputId": "2185183e-ea93-4c78-f1fe-e0fbaae240f4"
      },
      "outputs": [
        {
          "output_type": "stream",
          "name": "stdout",
          "text": [
            "Looking in indexes: https://pypi.org/simple, https://us-python.pkg.dev/colab-wheels/public/simple/\n",
            "Requirement already satisfied: nltk in /usr/local/lib/python3.7/dist-packages (3.2.5)\n",
            "Requirement already satisfied: six in /usr/local/lib/python3.7/dist-packages (from nltk) (1.15.0)\n"
          ]
        }
      ],
      "source": [
        "!pip install nltk"
      ]
    },
    {
      "cell_type": "code",
      "execution_count": null,
      "metadata": {
        "id": "cW5kdU5rd2x9",
        "colab": {
          "base_uri": "https://localhost:8080/"
        },
        "outputId": "911d20fd-6959-485a-f563-abb1c849f8ff"
      },
      "outputs": [
        {
          "output_type": "stream",
          "name": "stdout",
          "text": [
            "[nltk_data] Downloading package punkt to /root/nltk_data...\n",
            "[nltk_data]   Package punkt is already up-to-date!\n"
          ]
        },
        {
          "output_type": "execute_result",
          "data": {
            "text/plain": [
              "True"
            ]
          },
          "metadata": {},
          "execution_count": 114
        }
      ],
      "source": [
        "import nltk\n",
        "import re\n",
        "import string\n",
        "nltk.download('punkt')"
      ]
    },
    {
      "cell_type": "code",
      "execution_count": null,
      "metadata": {
        "colab": {
          "base_uri": "https://localhost:8080/",
          "height": 676
        },
        "id": "geFGLnxgU_xR",
        "outputId": "ea1a95b4-34a5-482a-c9a9-5e5ac6ecf612"
      },
      "outputs": [
        {
          "output_type": "execute_result",
          "data": {
            "text/plain": [
              "                     at  score  \\\n",
              "992 2022-05-31 13:11:28      1   \n",
              "0   2022-05-31 12:30:56      2   \n",
              "702 2022-05-31 12:13:04      5   \n",
              "315 2022-05-31 12:02:19      2   \n",
              "885 2022-05-31 12:01:51      2   \n",
              "267 2022-05-31 11:54:46      5   \n",
              "319 2022-05-31 11:22:49      4   \n",
              "437 2022-05-31 11:19:13      1   \n",
              "62  2022-05-31 10:30:34      4   \n",
              "768 2022-05-31 09:15:09      2   \n",
              "192 2022-05-31 08:54:11      4   \n",
              "254 2022-05-31 07:02:21      1   \n",
              "478 2022-05-31 06:57:50      1   \n",
              "10  2022-05-31 05:23:16      2   \n",
              "313 2022-05-31 04:03:33      3   \n",
              "44  2022-05-31 03:53:45      3   \n",
              "227 2022-05-31 03:20:47      1   \n",
              "3   2022-05-31 03:18:53      1   \n",
              "8   2022-05-31 03:06:43      1   \n",
              "921 2022-05-31 01:55:28      5   \n",
              "\n",
              "                                               content    label  \n",
              "992  sngat kecewa x sama sistem jualan di shopee ak...  NEGATIF  \n",
              "0    untuk pelayanan semua oke lah yah cuman rasany...  NEGATIF  \n",
              "702  awal nya saya sangat puas berbelanja di shopee...  POSITIF  \n",
              "315  bukannya sok tau tapi ada apa dengan koneksi s...  NEGATIF  \n",
              "885  tolong dong pihak shopee lebih di tegasin lagi...  NEGATIF  \n",
              "267  mantap sangat membantu belanja apapun jadi rin...  POSITIF  \n",
              "319  suka belanja di shopee  alhamdulillah sejauh i...  POSITIF  \n",
              "437  kecewa dengan shoppe s paylater dan s pinjam t...  NEGATIF  \n",
              "62   aku agak kesel sihsoalnya pas buka aplikasinya...  POSITIF  \n",
              "768  sya pengguna jakone mobile semenjak cimb niaga...  NEGATIF  \n",
              "192  bagus banget mudah belanja nya yg di sekitar g...  POSITIF  \n",
              "254  makin kesini shoppe makin gak jelas mau isi pu...  NEGATIF  \n",
              "478  sya masih suka belanja di shopee tapi sekarang...  NEGATIF  \n",
              "10   aplikasi nya jdi agak aneh tidak bisa menggant...  NEGATIF  \n",
              "313  saya kasih  bintang dulu nanti kalau ada perub...  NEGATIF  \n",
              "44   sebenernya sih gak masalah dengan shopee nyacu...  NEGATIF  \n",
              "227  shopee video bikin lemot kami itu menginstall ...  NEGATIF  \n",
              "3    sering crash jaringan lancar jaya tp gambar ti...  NEGATIF  \n",
              "8    minta tolong untuk pihak shopee agar jasa kiri...  NEGATIF  \n",
              "921  terimakasih shopee yg membantu aku untuk belan...  POSITIF  "
            ],
            "text/html": [
              "\n",
              "  <div id=\"df-3d53e9b6-91dd-4c64-88dc-1c835815ec04\">\n",
              "    <div class=\"colab-df-container\">\n",
              "      <div>\n",
              "<style scoped>\n",
              "    .dataframe tbody tr th:only-of-type {\n",
              "        vertical-align: middle;\n",
              "    }\n",
              "\n",
              "    .dataframe tbody tr th {\n",
              "        vertical-align: top;\n",
              "    }\n",
              "\n",
              "    .dataframe thead th {\n",
              "        text-align: right;\n",
              "    }\n",
              "</style>\n",
              "<table border=\"1\" class=\"dataframe\">\n",
              "  <thead>\n",
              "    <tr style=\"text-align: right;\">\n",
              "      <th></th>\n",
              "      <th>at</th>\n",
              "      <th>score</th>\n",
              "      <th>content</th>\n",
              "      <th>label</th>\n",
              "    </tr>\n",
              "  </thead>\n",
              "  <tbody>\n",
              "    <tr>\n",
              "      <th>992</th>\n",
              "      <td>2022-05-31 13:11:28</td>\n",
              "      <td>1</td>\n",
              "      <td>sngat kecewa x sama sistem jualan di shopee ak...</td>\n",
              "      <td>NEGATIF</td>\n",
              "    </tr>\n",
              "    <tr>\n",
              "      <th>0</th>\n",
              "      <td>2022-05-31 12:30:56</td>\n",
              "      <td>2</td>\n",
              "      <td>untuk pelayanan semua oke lah yah cuman rasany...</td>\n",
              "      <td>NEGATIF</td>\n",
              "    </tr>\n",
              "    <tr>\n",
              "      <th>702</th>\n",
              "      <td>2022-05-31 12:13:04</td>\n",
              "      <td>5</td>\n",
              "      <td>awal nya saya sangat puas berbelanja di shopee...</td>\n",
              "      <td>POSITIF</td>\n",
              "    </tr>\n",
              "    <tr>\n",
              "      <th>315</th>\n",
              "      <td>2022-05-31 12:02:19</td>\n",
              "      <td>2</td>\n",
              "      <td>bukannya sok tau tapi ada apa dengan koneksi s...</td>\n",
              "      <td>NEGATIF</td>\n",
              "    </tr>\n",
              "    <tr>\n",
              "      <th>885</th>\n",
              "      <td>2022-05-31 12:01:51</td>\n",
              "      <td>2</td>\n",
              "      <td>tolong dong pihak shopee lebih di tegasin lagi...</td>\n",
              "      <td>NEGATIF</td>\n",
              "    </tr>\n",
              "    <tr>\n",
              "      <th>267</th>\n",
              "      <td>2022-05-31 11:54:46</td>\n",
              "      <td>5</td>\n",
              "      <td>mantap sangat membantu belanja apapun jadi rin...</td>\n",
              "      <td>POSITIF</td>\n",
              "    </tr>\n",
              "    <tr>\n",
              "      <th>319</th>\n",
              "      <td>2022-05-31 11:22:49</td>\n",
              "      <td>4</td>\n",
              "      <td>suka belanja di shopee  alhamdulillah sejauh i...</td>\n",
              "      <td>POSITIF</td>\n",
              "    </tr>\n",
              "    <tr>\n",
              "      <th>437</th>\n",
              "      <td>2022-05-31 11:19:13</td>\n",
              "      <td>1</td>\n",
              "      <td>kecewa dengan shoppe s paylater dan s pinjam t...</td>\n",
              "      <td>NEGATIF</td>\n",
              "    </tr>\n",
              "    <tr>\n",
              "      <th>62</th>\n",
              "      <td>2022-05-31 10:30:34</td>\n",
              "      <td>4</td>\n",
              "      <td>aku agak kesel sihsoalnya pas buka aplikasinya...</td>\n",
              "      <td>POSITIF</td>\n",
              "    </tr>\n",
              "    <tr>\n",
              "      <th>768</th>\n",
              "      <td>2022-05-31 09:15:09</td>\n",
              "      <td>2</td>\n",
              "      <td>sya pengguna jakone mobile semenjak cimb niaga...</td>\n",
              "      <td>NEGATIF</td>\n",
              "    </tr>\n",
              "    <tr>\n",
              "      <th>192</th>\n",
              "      <td>2022-05-31 08:54:11</td>\n",
              "      <td>4</td>\n",
              "      <td>bagus banget mudah belanja nya yg di sekitar g...</td>\n",
              "      <td>POSITIF</td>\n",
              "    </tr>\n",
              "    <tr>\n",
              "      <th>254</th>\n",
              "      <td>2022-05-31 07:02:21</td>\n",
              "      <td>1</td>\n",
              "      <td>makin kesini shoppe makin gak jelas mau isi pu...</td>\n",
              "      <td>NEGATIF</td>\n",
              "    </tr>\n",
              "    <tr>\n",
              "      <th>478</th>\n",
              "      <td>2022-05-31 06:57:50</td>\n",
              "      <td>1</td>\n",
              "      <td>sya masih suka belanja di shopee tapi sekarang...</td>\n",
              "      <td>NEGATIF</td>\n",
              "    </tr>\n",
              "    <tr>\n",
              "      <th>10</th>\n",
              "      <td>2022-05-31 05:23:16</td>\n",
              "      <td>2</td>\n",
              "      <td>aplikasi nya jdi agak aneh tidak bisa menggant...</td>\n",
              "      <td>NEGATIF</td>\n",
              "    </tr>\n",
              "    <tr>\n",
              "      <th>313</th>\n",
              "      <td>2022-05-31 04:03:33</td>\n",
              "      <td>3</td>\n",
              "      <td>saya kasih  bintang dulu nanti kalau ada perub...</td>\n",
              "      <td>NEGATIF</td>\n",
              "    </tr>\n",
              "    <tr>\n",
              "      <th>44</th>\n",
              "      <td>2022-05-31 03:53:45</td>\n",
              "      <td>3</td>\n",
              "      <td>sebenernya sih gak masalah dengan shopee nyacu...</td>\n",
              "      <td>NEGATIF</td>\n",
              "    </tr>\n",
              "    <tr>\n",
              "      <th>227</th>\n",
              "      <td>2022-05-31 03:20:47</td>\n",
              "      <td>1</td>\n",
              "      <td>shopee video bikin lemot kami itu menginstall ...</td>\n",
              "      <td>NEGATIF</td>\n",
              "    </tr>\n",
              "    <tr>\n",
              "      <th>3</th>\n",
              "      <td>2022-05-31 03:18:53</td>\n",
              "      <td>1</td>\n",
              "      <td>sering crash jaringan lancar jaya tp gambar ti...</td>\n",
              "      <td>NEGATIF</td>\n",
              "    </tr>\n",
              "    <tr>\n",
              "      <th>8</th>\n",
              "      <td>2022-05-31 03:06:43</td>\n",
              "      <td>1</td>\n",
              "      <td>minta tolong untuk pihak shopee agar jasa kiri...</td>\n",
              "      <td>NEGATIF</td>\n",
              "    </tr>\n",
              "    <tr>\n",
              "      <th>921</th>\n",
              "      <td>2022-05-31 01:55:28</td>\n",
              "      <td>5</td>\n",
              "      <td>terimakasih shopee yg membantu aku untuk belan...</td>\n",
              "      <td>POSITIF</td>\n",
              "    </tr>\n",
              "  </tbody>\n",
              "</table>\n",
              "</div>\n",
              "      <button class=\"colab-df-convert\" onclick=\"convertToInteractive('df-3d53e9b6-91dd-4c64-88dc-1c835815ec04')\"\n",
              "              title=\"Convert this dataframe to an interactive table.\"\n",
              "              style=\"display:none;\">\n",
              "        \n",
              "  <svg xmlns=\"http://www.w3.org/2000/svg\" height=\"24px\"viewBox=\"0 0 24 24\"\n",
              "       width=\"24px\">\n",
              "    <path d=\"M0 0h24v24H0V0z\" fill=\"none\"/>\n",
              "    <path d=\"M18.56 5.44l.94 2.06.94-2.06 2.06-.94-2.06-.94-.94-2.06-.94 2.06-2.06.94zm-11 1L8.5 8.5l.94-2.06 2.06-.94-2.06-.94L8.5 2.5l-.94 2.06-2.06.94zm10 10l.94 2.06.94-2.06 2.06-.94-2.06-.94-.94-2.06-.94 2.06-2.06.94z\"/><path d=\"M17.41 7.96l-1.37-1.37c-.4-.4-.92-.59-1.43-.59-.52 0-1.04.2-1.43.59L10.3 9.45l-7.72 7.72c-.78.78-.78 2.05 0 2.83L4 21.41c.39.39.9.59 1.41.59.51 0 1.02-.2 1.41-.59l7.78-7.78 2.81-2.81c.8-.78.8-2.07 0-2.86zM5.41 20L4 18.59l7.72-7.72 1.47 1.35L5.41 20z\"/>\n",
              "  </svg>\n",
              "      </button>\n",
              "      \n",
              "  <style>\n",
              "    .colab-df-container {\n",
              "      display:flex;\n",
              "      flex-wrap:wrap;\n",
              "      gap: 12px;\n",
              "    }\n",
              "\n",
              "    .colab-df-convert {\n",
              "      background-color: #E8F0FE;\n",
              "      border: none;\n",
              "      border-radius: 50%;\n",
              "      cursor: pointer;\n",
              "      display: none;\n",
              "      fill: #1967D2;\n",
              "      height: 32px;\n",
              "      padding: 0 0 0 0;\n",
              "      width: 32px;\n",
              "    }\n",
              "\n",
              "    .colab-df-convert:hover {\n",
              "      background-color: #E2EBFA;\n",
              "      box-shadow: 0px 1px 2px rgba(60, 64, 67, 0.3), 0px 1px 3px 1px rgba(60, 64, 67, 0.15);\n",
              "      fill: #174EA6;\n",
              "    }\n",
              "\n",
              "    [theme=dark] .colab-df-convert {\n",
              "      background-color: #3B4455;\n",
              "      fill: #D2E3FC;\n",
              "    }\n",
              "\n",
              "    [theme=dark] .colab-df-convert:hover {\n",
              "      background-color: #434B5C;\n",
              "      box-shadow: 0px 1px 3px 1px rgba(0, 0, 0, 0.15);\n",
              "      filter: drop-shadow(0px 1px 2px rgba(0, 0, 0, 0.3));\n",
              "      fill: #FFFFFF;\n",
              "    }\n",
              "  </style>\n",
              "\n",
              "      <script>\n",
              "        const buttonEl =\n",
              "          document.querySelector('#df-3d53e9b6-91dd-4c64-88dc-1c835815ec04 button.colab-df-convert');\n",
              "        buttonEl.style.display =\n",
              "          google.colab.kernel.accessAllowed ? 'block' : 'none';\n",
              "\n",
              "        async function convertToInteractive(key) {\n",
              "          const element = document.querySelector('#df-3d53e9b6-91dd-4c64-88dc-1c835815ec04');\n",
              "          const dataTable =\n",
              "            await google.colab.kernel.invokeFunction('convertToInteractive',\n",
              "                                                     [key], {});\n",
              "          if (!dataTable) return;\n",
              "\n",
              "          const docLinkHtml = 'Like what you see? Visit the ' +\n",
              "            '<a target=\"_blank\" href=https://colab.research.google.com/notebooks/data_table.ipynb>data table notebook</a>'\n",
              "            + ' to learn more about interactive tables.';\n",
              "          element.innerHTML = '';\n",
              "          dataTable['output_type'] = 'display_data';\n",
              "          await google.colab.output.renderOutput(dataTable, element);\n",
              "          const docLink = document.createElement('div');\n",
              "          docLink.innerHTML = docLinkHtml;\n",
              "          element.appendChild(docLink);\n",
              "        }\n",
              "      </script>\n",
              "    </div>\n",
              "  </div>\n",
              "  "
            ]
          },
          "metadata": {},
          "execution_count": 115
        }
      ],
      "source": [
        "from os import remove\n",
        "def pre_process(text):\n",
        "  text = text.lower() # Merubah format text menjadi format huruf kecil (lowercase)\n",
        "  text = re.sub(r\"\\d+\", \"\", text) # menghapus karakter angka\n",
        "  text = text.translate(str.maketrans(\"\",\"\",string.punctuation))# menghapus karakter tanda baca\n",
        "  TEXT_CLEANING_RE = \"@#=-_\\S+|https?:\\S+http?:\\S|{^A-Za-z}+\" # menghapus karakter url dan simbol\n",
        "  text = text.strip() # menghapus karakter kosong\n",
        "  pisah = text.split() # memisahkan string kedalam list dengan spasi sebagai pemisah jika tidak ditentukan pemisahnya\n",
        "  tokens = nltk.tokenize.word_tokenize(text) # menggunakan library NLTK untuk memisahkan kata dalam sebuah kalimat\n",
        "  removed = []\n",
        "  for t in tokens:\n",
        "      removed.append(t)\n",
        "  return text\n",
        "\n",
        "df['content'] = df['content'].apply(lambda x:pre_process(x))\n",
        "df.head(20)"
      ]
    },
    {
      "cell_type": "code",
      "source": [
        "from matplotlib import pyplot as plt"
      ],
      "metadata": {
        "id": "vV5oaZKSTt91"
      },
      "execution_count": null,
      "outputs": []
    },
    {
      "cell_type": "code",
      "source": [
        "# Cek jumlah review positive dan negative\n",
        "plt.figure(figsize=(5,5))\n",
        "sns.countplot(x='label', data=df)\n",
        "plt.title('Hasil Score', fontsize=16)\n",
        "plt.ylabel('Counts', fontsize=15)\n",
        "plt.xlabel('Label', fontsize=15)\n",
        "plt.xticks(rotation='horizontal');"
      ],
      "metadata": {
        "id": "ISKjFIMIIKEx",
        "colab": {
          "base_uri": "https://localhost:8080/",
          "height": 357
        },
        "outputId": "8b963ea0-fc53-4b2a-df94-89dc6475f48a"
      },
      "execution_count": null,
      "outputs": [
        {
          "output_type": "display_data",
          "data": {
            "text/plain": [
              "<Figure size 360x360 with 1 Axes>"
            ],
            "image/png": "[encoded data removed]"
          },
          "metadata": {
            "needs_background": "light"
          }
        }
      ]
    },
    {
      "cell_type": "code",
      "source": [
        "!pip install wordcloud"
      ],
      "metadata": {
        "id": "nRfCO1djGk7n",
        "colab": {
          "base_uri": "https://localhost:8080/"
        },
        "outputId": "c6783919-dd8b-4122-c3e2-425716755690"
      },
      "execution_count": null,
      "outputs": [
        {
          "output_type": "stream",
          "name": "stdout",
          "text": [
            "Looking in indexes: https://pypi.org/simple, https://us-python.pkg.dev/colab-wheels/public/simple/\n",
            "Requirement already satisfied: wordcloud in /usr/local/lib/python3.7/dist-packages (1.5.0)\n",
            "Requirement already satisfied: numpy>=1.6.1 in /usr/local/lib/python3.7/dist-packages (from wordcloud) (1.21.6)\n",
            "Requirement already satisfied: pillow in /usr/local/lib/python3.7/dist-packages (from wordcloud) (7.1.2)\n"
          ]
        }
      ]
    },
    {
      "cell_type": "code",
      "source": [
        "from wordcloud import WordCloud "
      ],
      "metadata": {
        "id": "eoyDivuaHJzt"
      },
      "execution_count": null,
      "outputs": []
    },
    {
      "cell_type": "code",
      "source": [
        "# kata yang sering muncul positif dan negatif\n",
        "wordcloud = WordCloud(width = 800, height= 800, background_color = 'gray', max_words = 1000, min_font_size = 20).generate(str(df))\n",
        "\n",
        "fig = plt.figure(figsize = (8,8), facecolor = None)\n",
        "plt.imshow(wordcloud)\n",
        "plt.axis('off')\n",
        "plt.show()"
      ],
      "metadata": {
        "colab": {
          "base_uri": "https://localhost:8080/",
          "height": 466
        },
        "id": "XAfrcb66FL57",
        "outputId": "b21b4a69-3fb3-460e-a6b8-fffedd71ac82"
      },
      "execution_count": null,
      "outputs": [
        {
          "output_type": "display_data",
          "data": {
            "text/plain": [
              "<Figure size 576x576 with 1 Axes>"
            ],
            "image/png": "[encoded data removed]"
          },
          "metadata": {
            "needs_background": "light"
          }
        }
      ]
    },
    {
      "cell_type": "code",
      "execution_count": null,
      "metadata": {
        "id": "25hBUSdW-XH2"
      },
      "outputs": [],
      "source": [
        "#Simpan file sebagai CSV\n",
        "df.to_csv(\"Hasil_Crawling.csv\", index = False) "
      ]
    },
    {
      "cell_type": "markdown",
      "metadata": {
        "id": "QYSRT6QQO7TQ"
      },
      "source": [
        "### 3. Proses Modelling"
      ]
    },
    {
      "cell_type": "markdown",
      "metadata": {
        "id": "seC-HU67O7TQ"
      },
      "source": [
        "### Logistic Regression"
      ]
    },
    {
      "cell_type": "code",
      "execution_count": null,
      "metadata": {
        "id": "OuebVpJnO7TQ",
        "colab": {
          "base_uri": "https://localhost:8080/"
        },
        "outputId": "72f9c6f4-3af0-489e-eb3c-8eac895aebd5"
      },
      "outputs": [
        {
          "output_type": "stream",
          "name": "stdout",
          "text": [
            "CPU times: user 203 ms, sys: 7.2 ms, total: 210 ms\n",
            "Wall time: 211 ms\n"
          ]
        }
      ],
      "source": [
        "#melakukan pemodelan prediksi\n",
        "\n",
        "%%time\n",
        "\n",
        "from sklearn.feature_extraction.text import TfidfVectorizer\n",
        "from sklearn.linear_model import LogisticRegression\n",
        "from sklearn.model_selection import train_test_split\n",
        "from sklearn.metrics import f1_score, log_loss\n",
        "\n",
        "\n",
        "#membangun vector space model\n",
        "vectorizer = TfidfVectorizer(ngram_range=(1,3), min_df=10)\n",
        "features = vectorizer.fit_transform(df.content)\n",
        "\n",
        "#melakukan split data training untuk mengetahui akurasi\n",
        "X_train, X_test, y_train, y_test = train_test_split(features, y, test_size=0.2, random_state=4)\n",
        "\n",
        "#modeling sentiment\n",
        "LR_ = LogisticRegression(C=3, solver='liblinear', max_iter=150).fit(X_train, y_train)\n",
        "\n"
      ]
    },
    {
      "cell_type": "markdown",
      "metadata": {
        "id": "pc1_REBT9Z9j"
      },
      "source": [
        "### 4. Proses Evaluation"
      ]
    },
    {
      "cell_type": "code",
      "execution_count": null,
      "metadata": {
        "id": "90yiG_1YO7TS",
        "colab": {
          "base_uri": "https://localhost:8080/"
        },
        "outputId": "ef405ef5-c8a8-442c-b968-76c952ef5d8d"
      },
      "outputs": [
        {
          "output_type": "stream",
          "name": "stdout",
          "text": [
            "F1 score :  0.39357616836499465\n",
            "Log Loss :  1.3290154075141134\n"
          ]
        }
      ],
      "source": [
        "#melakukan evaluasi\n",
        "yhat = LR_.predict(X_test)\n",
        "print('F1 score : ', f1_score(y_test, yhat, average='weighted'))\n",
        "\n",
        "yhat_prob = LR_.predict_proba(X_test)\n",
        "print ('Log Loss : ', log_loss(y_test, yhat_prob))"
      ]
    },
    {
      "cell_type": "markdown",
      "source": [
        "### * Proses Evaluasi Model"
      ],
      "metadata": {
        "id": "a81HSmgygdHI"
      }
    },
    {
      "cell_type": "code",
      "source": [
        "# Vectorization\n",
        "from sklearn.feature_extraction.text import CountVectorizer\n",
        "\n",
        "cv = CountVectorizer()\n",
        "cv.fit(df['content'])\n",
        "x = cv.transform(df['content'])\n",
        "\n",
        "y = df['label']"
      ],
      "metadata": {
        "id": "E9x8EpM0W1lm"
      },
      "execution_count": null,
      "outputs": []
    },
    {
      "cell_type": "code",
      "source": [
        "# Build Classifier\n",
        "from sklearn.linear_model import LogisticRegression\n",
        "from sklearn.svm import SVC\n",
        "from sklearn.metrics import accuracy_score\n",
        "from sklearn.model_selection import train_test_split\n",
        "\n",
        "X_train, X_test, y_train, y_test, = train_test_split(x, y, train_size=0.80)"
      ],
      "metadata": {
        "id": "jzG2Ju3oX11J"
      },
      "execution_count": null,
      "outputs": []
    },
    {
      "cell_type": "code",
      "source": [
        "# Find the best value of C in logistic regression\n",
        "for c in [0.01, 0.05, 0.25, 0.5, 1]:\n",
        "\n",
        "    lr = LogisticRegression(C=c)\n",
        "    lr.fit(X_train, y_train)\n",
        "    print('Accuracy for C-%s: %s' \n",
        "          % (c, accuracy_score(y_test, lr.predict(X_test))))"
      ],
      "metadata": {
        "colab": {
          "base_uri": "https://localhost:8080/"
        },
        "id": "TqNe2-HvZgAv",
        "outputId": "f64c3a48-3ec0-4653-fb64-96bec2ca0ccc"
      },
      "execution_count": null,
      "outputs": [
        {
          "output_type": "stream",
          "name": "stdout",
          "text": [
            "Accuracy for C-0.01: 0.755\n",
            "Accuracy for C-0.05: 0.83\n",
            "Accuracy for C-0.25: 0.815\n",
            "Accuracy for C-0.5: 0.825\n",
            "Accuracy for C-1: 0.805\n"
          ]
        }
      ]
    },
    {
      "cell_type": "code",
      "source": [
        "final_model_sv = SVC(C=1)\n",
        "final_model_sv.fit(x, y)\n",
        "print('Final Model Accuracy: %s' %accuracy_score(y_test, final_model_sv.predict(X_test)))"
      ],
      "metadata": {
        "colab": {
          "base_uri": "https://localhost:8080/"
        },
        "id": "VpKecpE4ePL_",
        "outputId": "d3f33e68-10c0-4761-a0f4-65f07f08e15a"
      },
      "execution_count": null,
      "outputs": [
        {
          "output_type": "stream",
          "name": "stdout",
          "text": [
            "Final Model Accuracy: 0.955\n"
          ]
        }
      ]
    },
    {
      "cell_type": "markdown",
      "metadata": {
        "id": "EXDGRu-fHpvv"
      },
      "source": [
        "### 5. Proses Prediction"
      ]
    },
    {
      "cell_type": "code",
      "execution_count": null,
      "metadata": {
        "id": "u4Izr0lzEGgf"
      },
      "outputs": [],
      "source": [
        "from sklearn.model_selection import train_test_split  \n",
        "X_train, X_test, y_train, y_test = train_test_split(X1, y, test_size=0.2, random_state=0) #20% data testing"
      ]
    },
    {
      "cell_type": "code",
      "execution_count": null,
      "metadata": {
        "id": "7ZwFF6ZXGfBj"
      },
      "outputs": [],
      "source": [
        "import time"
      ]
    },
    {
      "cell_type": "code",
      "execution_count": null,
      "metadata": {
        "id": "plO0fYm4zsyL"
      },
      "outputs": [],
      "source": [
        "from sklearn.svm import SVC\n",
        "text_classifier_svm = SVC(kernel='linear')\n",
        "t0_svm = time.time()\n",
        "text_classifier_svm.fit(X_train, y_train)\n",
        "t1_svm = time.time()"
      ]
    },
    {
      "cell_type": "code",
      "execution_count": null,
      "metadata": {
        "colab": {
          "base_uri": "https://localhost:8080/"
        },
        "id": "ulqqo7MEGwsp",
        "outputId": "d061059b-4cda-4fef-d00a-76abbcff6d0f"
      },
      "outputs": [
        {
          "output_type": "stream",
          "name": "stdout",
          "text": [
            "SVM Training time: 0.320468s; Prediction time: 67.564074s\n"
          ]
        }
      ],
      "source": [
        "predictions_svm = text_classifier_svm.predict(X_test)\n",
        "t2_svm = time.time()\n",
        "time_linear_train_svm = t1_svm-t0_svm\n",
        "time_linear_predict_svm = t2_svm-t1_svm\n",
        "\n",
        "# results\n",
        "print(\"SVM Training time: %fs; Prediction time: %fs\" % (time_linear_train_svm, time_linear_predict_svm))"
      ]
    },
    {
      "cell_type": "code",
      "execution_count": null,
      "metadata": {
        "id": "J2c5pfvIO7TV"
      },
      "outputs": [],
      "source": [
        "#melakukan training\n",
        "def training_step(df, vectorizer) :\n",
        "    features = vectorizer.fit_transform(df.content)\n",
        "    LR_ = LogisticRegression(C = 3, solver='liblinear', max_iter=150).fit(features,y)\n",
        "    return LR_\n",
        "\n",
        "#melakukan testing\n",
        "classifier = training_step(df, vectorizer)\n",
        "result = classifier.predict(vectorizer.transform(df.content))"
      ]
    },
    {
      "cell_type": "code",
      "execution_count": null,
      "metadata": {
        "id": "31wMJYvMO7TV"
      },
      "outputs": [],
      "source": [
        "#simpan hasil\n",
        "np.savetxt('/content/Hasil_Crawling.txt', result, fmt='%s', delimiter='\\n')"
      ]
    },
    {
      "cell_type": "code",
      "execution_count": null,
      "metadata": {
        "id": "d7icCSqcO7TV",
        "colab": {
          "base_uri": "https://localhost:8080/",
          "height": 206
        },
        "outputId": "09e9eb2c-3ede-4bff-953b-a8395aeecf62"
      },
      "outputs": [
        {
          "output_type": "execute_result",
          "data": {
            "text/plain": [
              "   NEGATIF\n",
              "0  NEGATIF\n",
              "1  POSITIF\n",
              "2  NEGATIF\n",
              "3  NEGATIF\n",
              "4  POSITIF"
            ],
            "text/html": [
              "\n",
              "  <div id=\"df-18ca64d0-8654-45ac-a541-1ab5db78c33a\">\n",
              "    <div class=\"colab-df-container\">\n",
              "      <div>\n",
              "<style scoped>\n",
              "    .dataframe tbody tr th:only-of-type {\n",
              "        vertical-align: middle;\n",
              "    }\n",
              "\n",
              "    .dataframe tbody tr th {\n",
              "        vertical-align: top;\n",
              "    }\n",
              "\n",
              "    .dataframe thead th {\n",
              "        text-align: right;\n",
              "    }\n",
              "</style>\n",
              "<table border=\"1\" class=\"dataframe\">\n",
              "  <thead>\n",
              "    <tr style=\"text-align: right;\">\n",
              "      <th></th>\n",
              "      <th>NEGATIF</th>\n",
              "    </tr>\n",
              "  </thead>\n",
              "  <tbody>\n",
              "    <tr>\n",
              "      <th>0</th>\n",
              "      <td>NEGATIF</td>\n",
              "    </tr>\n",
              "    <tr>\n",
              "      <th>1</th>\n",
              "      <td>POSITIF</td>\n",
              "    </tr>\n",
              "    <tr>\n",
              "      <th>2</th>\n",
              "      <td>NEGATIF</td>\n",
              "    </tr>\n",
              "    <tr>\n",
              "      <th>3</th>\n",
              "      <td>NEGATIF</td>\n",
              "    </tr>\n",
              "    <tr>\n",
              "      <th>4</th>\n",
              "      <td>POSITIF</td>\n",
              "    </tr>\n",
              "  </tbody>\n",
              "</table>\n",
              "</div>\n",
              "      <button class=\"colab-df-convert\" onclick=\"convertToInteractive('df-18ca64d0-8654-45ac-a541-1ab5db78c33a')\"\n",
              "              title=\"Convert this dataframe to an interactive table.\"\n",
              "              style=\"display:none;\">\n",
              "        \n",
              "  <svg xmlns=\"http://www.w3.org/2000/svg\" height=\"24px\"viewBox=\"0 0 24 24\"\n",
              "       width=\"24px\">\n",
              "    <path d=\"M0 0h24v24H0V0z\" fill=\"none\"/>\n",
              "    <path d=\"M18.56 5.44l.94 2.06.94-2.06 2.06-.94-2.06-.94-.94-2.06-.94 2.06-2.06.94zm-11 1L8.5 8.5l.94-2.06 2.06-.94-2.06-.94L8.5 2.5l-.94 2.06-2.06.94zm10 10l.94 2.06.94-2.06 2.06-.94-2.06-.94-.94-2.06-.94 2.06-2.06.94z\"/><path d=\"M17.41 7.96l-1.37-1.37c-.4-.4-.92-.59-1.43-.59-.52 0-1.04.2-1.43.59L10.3 9.45l-7.72 7.72c-.78.78-.78 2.05 0 2.83L4 21.41c.39.39.9.59 1.41.59.51 0 1.02-.2 1.41-.59l7.78-7.78 2.81-2.81c.8-.78.8-2.07 0-2.86zM5.41 20L4 18.59l7.72-7.72 1.47 1.35L5.41 20z\"/>\n",
              "  </svg>\n",
              "      </button>\n",
              "      \n",
              "  <style>\n",
              "    .colab-df-container {\n",
              "      display:flex;\n",
              "      flex-wrap:wrap;\n",
              "      gap: 12px;\n",
              "    }\n",
              "\n",
              "    .colab-df-convert {\n",
              "      background-color: #E8F0FE;\n",
              "      border: none;\n",
              "      border-radius: 50%;\n",
              "      cursor: pointer;\n",
              "      display: none;\n",
              "      fill: #1967D2;\n",
              "      height: 32px;\n",
              "      padding: 0 0 0 0;\n",
              "      width: 32px;\n",
              "    }\n",
              "\n",
              "    .colab-df-convert:hover {\n",
              "      background-color: #E2EBFA;\n",
              "      box-shadow: 0px 1px 2px rgba(60, 64, 67, 0.3), 0px 1px 3px 1px rgba(60, 64, 67, 0.15);\n",
              "      fill: #174EA6;\n",
              "    }\n",
              "\n",
              "    [theme=dark] .colab-df-convert {\n",
              "      background-color: #3B4455;\n",
              "      fill: #D2E3FC;\n",
              "    }\n",
              "\n",
              "    [theme=dark] .colab-df-convert:hover {\n",
              "      background-color: #434B5C;\n",
              "      box-shadow: 0px 1px 3px 1px rgba(0, 0, 0, 0.15);\n",
              "      filter: drop-shadow(0px 1px 2px rgba(0, 0, 0, 0.3));\n",
              "      fill: #FFFFFF;\n",
              "    }\n",
              "  </style>\n",
              "\n",
              "      <script>\n",
              "        const buttonEl =\n",
              "          document.querySelector('#df-18ca64d0-8654-45ac-a541-1ab5db78c33a button.colab-df-convert');\n",
              "        buttonEl.style.display =\n",
              "          google.colab.kernel.accessAllowed ? 'block' : 'none';\n",
              "\n",
              "        async function convertToInteractive(key) {\n",
              "          const element = document.querySelector('#df-18ca64d0-8654-45ac-a541-1ab5db78c33a');\n",
              "          const dataTable =\n",
              "            await google.colab.kernel.invokeFunction('convertToInteractive',\n",
              "                                                     [key], {});\n",
              "          if (!dataTable) return;\n",
              "\n",
              "          const docLinkHtml = 'Like what you see? Visit the ' +\n",
              "            '<a target=\"_blank\" href=https://colab.research.google.com/notebooks/data_table.ipynb>data table notebook</a>'\n",
              "            + ' to learn more about interactive tables.';\n",
              "          element.innerHTML = '';\n",
              "          dataTable['output_type'] = 'display_data';\n",
              "          await google.colab.output.renderOutput(dataTable, element);\n",
              "          const docLink = document.createElement('div');\n",
              "          docLink.innerHTML = docLinkHtml;\n",
              "          element.appendChild(docLink);\n",
              "        }\n",
              "      </script>\n",
              "    </div>\n",
              "  </div>\n",
              "  "
            ]
          },
          "metadata": {},
          "execution_count": 206
        }
      ],
      "source": [
        "df_hasil = pd.read_csv(r'/content/Hasil_Crawling.txt')\n",
        "df_hasil.head()"
      ]
    },
    {
      "cell_type": "code",
      "execution_count": null,
      "metadata": {
        "id": "gCVG7-AprMqZ"
      },
      "outputs": [],
      "source": [
        "def prediksi_komentar(comment):\n",
        "  result = classifier.predict(vectorizer.transform([comment]))\n",
        "  if result == 1:\n",
        "    return \"negatif\"\n",
        "  else:\n",
        "    return \"positif\""
      ]
    },
    {
      "cell_type": "code",
      "execution_count": null,
      "metadata": {
        "colab": {
          "base_uri": "https://localhost:8080/",
          "height": 36
        },
        "outputId": "03fbc264-f986-4576-cf09-8dddd7b80e0a",
        "id": "cFSULpiLd_J5"
      },
      "outputs": [
        {
          "output_type": "execute_result",
          "data": {
            "text/plain": [
              "'positif'"
            ],
            "application/vnd.google.colaboratory.intrinsic+json": {
              "type": "string"
            }
          },
          "metadata": {},
          "execution_count": 219
        }
      ],
      "source": [
        "prediksi_komentar('aplikasi nya sangat lambat')"
      ]
    }
  ],
  "metadata": {
    "colab": {
      "collapsed_sections": [],
      "name": "Projek_Akhir_NLP.ipynb",
      "provenance": []
    },
    "kernelspec": {
      "display_name": "Python 3",
      "name": "python3"
    },
    "language_info": {
      "name": "python"
    }
  },
  "nbformat": 4,
  "nbformat_minor": 0
}